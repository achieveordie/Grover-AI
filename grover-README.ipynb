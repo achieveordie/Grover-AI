{
 "cells": [
  {
   "cell_type": "markdown",
   "metadata": {},
   "source": [
    "# Grover-AI\n",
    "\n",
    "This is a complete implementation of the famous [Grover's Algorithm](https://arxiv.org/abs/quant-ph/9605043) where one can see how we can use Machine Learning to learn oracles for a given input value and hence solve a searching problem in $O(\\sqrt N)$ time, essentially giving a quadratic speed-up in comparision to classical algorithms.\n",
    "\n",
    "## What is Grover's Algorithm?\n",
    "\n",
    "This is one of the most basic algorithm which acts as a subroutine to more complex algorithms and one of the algorithms which shows how quantum computers may be superior to classical computers in certain applications. We already know that this algorithm provides a quadratic speed-up with regards to searching a database of size $N$ (where $N=2^n$, $n$ being the number of qubits used), This can be understood in the following manner:\n",
    "\n",
    "- Step 1: Apply Hadamard Gate on every qubit in the circuit to give the following superposition:\n",
    "$$ | \\psi_1 \\rangle = \\sum_{x=0}^{N-1} \\frac{1}{\\sqrt{N}} |x \\rangle $$\n",
    "\n",
    "Where $|x\\rangle$ is every number from 0 to N-1, which is our search corpus.\n",
    "\n",
    "- Step 2: Apply Grover Operator: \n",
    "$$G = (2|\\psi \\rangle \\langle \\psi | - I)O$$\n",
    "with $\\psi$ being the superposition of states denoted above and $O$ is an oracle which works as the following:\n",
    "$f(x) = 1$ if $x = x^*$ ;\n",
    "$f(x) = 0$ otherwise. with $x^*$ being the solution that we are trying to find"
   ]
  },
  {
   "cell_type": "code",
   "execution_count": null,
   "metadata": {},
   "outputs": [],
   "source": []
  }
 ],
 "metadata": {
  "kernelspec": {
   "display_name": "Python 3",
   "language": "python",
   "name": "python3"
  },
  "language_info": {
   "codemirror_mode": {
    "name": "ipython",
    "version": 3
   },
   "file_extension": ".py",
   "mimetype": "text/x-python",
   "name": "python",
   "nbconvert_exporter": "python",
   "pygments_lexer": "ipython3",
   "version": "3.7.4"
  }
 },
 "nbformat": 4,
 "nbformat_minor": 2
}
