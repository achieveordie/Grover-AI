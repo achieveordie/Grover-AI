{
 "cells": [
  {
   "cell_type": "markdown",
   "metadata": {},
   "source": [
    "# Grover-AI\n",
    "\n",
    "This is a complete implementation of the famous [Grover's Algorithm](https://arxiv.org/abs/quant-ph/9605043) where one can see how we can use Machine Learning to learn oracles for a given input value and hence solve a searching problem in $O(\\sqrt N)$ time, essentially giving a quadratic speed-up in comparision to classical algorithms.\n",
    "\n",
    "## What is Grover's Algorithm?\n",
    "\n",
    "This is one of the most basic algorithm which acts as a subroutine to more complex algorithms and one of the algorithms which shows how quantum computers may be superior to classical computers in certain applications. We already know that this algorithm provides a quadratic speed-up with regards to searching a database of size $N$ (where $N=2^n$, $n$ being the number of qubits used), This can be understood in the following manner:\n",
    "\n",
    "- Step 1: Apply Hadamard Gate on every qubit in the circuit to give the following superposition:\n",
    "$$ \\vert \\psi_1 \\rangle = \\sum_{x=0}^{N-1} \\frac{1}{\\sqrt{N}} \\vert x \\rangle $$\n",
    "\n",
    "Where $ \\vert x\\rangle$ is every number from 0 to N-1, which is our search corpus.\n",
    "\n",
    "- Step 2: Apply Grover Operator: \n",
    "$$G = (2\\vert\\psi \\rangle \\langle \\psi \\vert - I)O$$\n",
    "with $\\psi$ being the superposition of states denoted above and $O$ is an oracle which works as the following:\n",
    "$f(x) = 1$ if $x = x^*$ ;\n",
    "$f(x) = 0$ otherwise. with $x^*$ being the solution that we are trying to find.\n",
    "\n",
    "- Step 3: Repeat the previous step $\\frac{\\pi \\sqrt{N}}{4}$ times and measure all the qubits, the probability of getting $x^*$ shoots to approximately 1.\n",
    "\n",
    "## Why does Grover's Algorithm work?\n",
    "\n",
    "The above process seems a bit unintutive and uninformative about how does the application of this magical operator results in searching of a required number. Let me explain the components a bit more to gain a better understanding.\n",
    "\n",
    "### Grover's Operator:\n",
    "\n",
    "$(2\\vert \\psi \\rangle \\langle \\psi \\vert - I)O$ seems a bit too complicated, that may be because of the fact that Grover's Operator is actually a composite operator - $O$ known as the 'Oracle' and $2 \\vert \\psi \\rangle \\langle \\psi \\vert - I$ known as the 'Amplification Operator'.\n",
    "\n",
    "#### The Oracle\n",
    "\n",
    "As discussed above, the application of oracle serves only one purpose - to make the phase of the search number the smallest. There are multiple cases which would require different type of oracles altogether, but keeping things relatively simple, we assume that the input state contains all positive phases. When this is the case, 'flipping the phase' essentially means that we are multiplying the local phase by a factor of -1. We'll see how do we actually do that in the following sections.\n",
    "\n",
    "#### The Amplification Operator\n",
    "\n",
    "The essence of amplification operator is simple - given a superposition with different phases, flip the phases about the mean amplitude. To prove my claim, consider the following example:\n",
    "- Given a random state $\\sum_i a_i \\vert i \\rangle$, application of amplification operator does the following: \n",
    "$$ \\left( 2 \\vert \\psi \\rangle \\langle \\psi \\vert - I \\right) \\sum_i a_i \\vert i \\rangle  = \\sum_i (2 \\langle a \\rangle - a_i) \\vert i \\rangle$$\n",
    " Where $\\langle a \\rangle = \\frac{\\sum_i a_i}{\\sum i}$, the mean amplitude.\n",
    " \n",
    " If things are not yet clear, here's an example to fortify my claim:\n",
    " - Suppose we have the following state: $\\vert \\psi \\rangle = \\frac{3}{\\sqrt{147}} \\vert 1 \\rangle + \\frac{4}{\\sqrt{147}} \\vert 2 \\rangle + \\frac{11}{\\sqrt{147}} \\vert 3 \\rangle + \\frac{1}{\\sqrt{147}} \\vert 4 \\rangle$. Here $\\vert 1 \\rangle, \\vert 2 \\rangle, \\vert 3 \\rangle, \\vert 4 \\rangle$ are the decimal representation.\n",
    " - Let's truncate the factor $\\frac{1}{\\sqrt{147}}$ for easier typing and calculations. The mean of the amplitudes is $ \\frac{3 + 4 + 11 + 1}{4} = \\frac{19}{4} \\approx 5$.\n",
    " - Putting this mean amplitude in the above formula we get -> $(2\\times 5-3, 2\\times 5-4, 2\\times 5-11, 2\\times 5-1) = (7,6,-1,9)$\n",
    " - On comparing the two amplitudes {before $\\to$ $(3,4,11,1)$ and after $\\to$ $(7,6,-1,9)$}, we notice the effect which I claimed to exist, there is a swap in the amplitudes, the largest amplitude became the smallest and vice versa.\n",
    " \n",
    " ### The Working:\n",
    " \n",
    " Now that we know what does the application of components of Grover's operator work, we can see how the combination leads to the direction of search number. The first part of the operators flips the phase of the state that we are searching (if it is present) then the next part of the operator swaps the amplitude causing it to go frow lowest to highest. This process is repeated approximately $\\sqrt N$ times to increase the amplitude of searched number to approximately 1.\n",
    " \n",
    " \n",
    " [Here's a geometric explanation which is a bit more intutive to follow.](https://qudev.phys.ethz.ch/static/content/QSIT16/talks/Grover_QSIT.pdf)\n",
    " \n"
   ]
  },
  {
   "cell_type": "code",
   "execution_count": null,
   "metadata": {},
   "outputs": [],
   "source": []
  }
 ],
 "metadata": {
  "kernelspec": {
   "display_name": "Python 3",
   "language": "python",
   "name": "python3"
  },
  "language_info": {
   "codemirror_mode": {
    "name": "ipython",
    "version": 3
   },
   "file_extension": ".py",
   "mimetype": "text/x-python",
   "name": "python",
   "nbconvert_exporter": "python",
   "pygments_lexer": "ipython3",
   "version": "3.7.4"
  }
 },
 "nbformat": 4,
 "nbformat_minor": 2
}
