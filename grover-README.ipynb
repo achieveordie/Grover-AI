{
 "cells": [
  {
   "cell_type": "markdown",
   "metadata": {},
   "source": [
    "# Grover-AI\n",
    "\n",
    "This is a complete implementation of the famous [Grover's Algorithm](https://arxiv.org/abs/quant-ph/9605043) where one can see how we can use Machine Learning to learn oracles for a given input value and hence solve a searching problem in $O(\\sqrt N)$ time, essentially giving a quadratic speed-up in comparision to classical algorithms.\n",
    "\n",
    "## What is Grover's Algorithm?\n",
    "I don't know man.\n",
    "\n"
   ]
  },
  {
   "cell_type": "code",
   "execution_count": null,
   "metadata": {},
   "outputs": [],
   "source": []
  }
 ],
 "metadata": {
  "kernelspec": {
   "display_name": "Python 3",
   "language": "python",
   "name": "python3"
  },
  "language_info": {
   "codemirror_mode": {
    "name": "ipython",
    "version": 3
   },
   "file_extension": ".py",
   "mimetype": "text/x-python",
   "name": "python",
   "nbconvert_exporter": "python",
   "pygments_lexer": "ipython3",
   "version": "3.7.4"
  }
 },
 "nbformat": 4,
 "nbformat_minor": 2
}
